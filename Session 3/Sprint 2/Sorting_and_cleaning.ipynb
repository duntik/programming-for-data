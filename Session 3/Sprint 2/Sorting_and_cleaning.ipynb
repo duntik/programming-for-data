{
 "cells": [
  {
   "cell_type": "markdown",
   "metadata": {
    "id": "4CVoh0pMzW0l"
   },
   "source": [
    "# Sorting and cleaning \n",
    "---\n",
    "\n",
    "\n",
    "\n",
    "In order to effectively analyse a dataset, often we need to prepare it first. \n",
    "Before a dataset is ready to be analysed we might need to:  \n",
    "\n",
    "* sort the data (can be a series or dataframe)  \n",
    "* remove any NaN values or drop NA values   \n",
    "* remove duplicate records (identical rows)  \n",
    "* normalise data in dataframe columns so that has a common scale [reference](https://towardsai.net/p/data-science/how-when-and-why-should-you-normalize-standardize-rescale-your-data-3f083def38ff#:~:text=Similarly%2C%20the%20goal%20of%20normalization,dataset%20does%20not%20require%20normalization.&text=So%20we%20normalize%20the%20data,variables%20to%20the%20same%20range.)\n",
    "\n",
    "## Sorting the data  \n",
    "---\n",
    "\n",
    "\n",
    "Typically we want to sort data by the values in one or more columns in the dataframe  \n",
    "\n",
    "To sort the dataframe by series we use the pandas function **sort_values()**.  \n",
    "\n",
    "By default `sort_values()` sorts into ascending order.\n",
    "\n",
    "* sort by a single column e.g.\n",
    "  * `df.sort_values(\"Make\") `\n",
    "* sort by multiple columns e.g. \n",
    "  * `df.sort_values(by = [\"Model\", \"Make\"]) `\n",
    "    * this sorts by Model, then my Make \n",
    "* sort in *descending* order\n",
    "  * `df.sort_values(by = \"Make\", ascending = False)`\n",
    "  * `df.sort_values(by = [\"Make\", \"Model\"], ascending = False])`  \n",
    "\n",
    "Dataframes are mostly immutable, changes like sort_values do not change the dataframe permanently, they just change it for the time that the instruction is being used.\n",
    "\n",
    "`df.sort_values(by='Make')` *dataframe is now in sorted order and can be copied to a new dataframe*  \n",
    "`df` *original dataframe, df, will be as it was - unsorted* \n",
    "\n",
    "To split the dataframe after sorting, do this in the same instruction, e.g.:\n",
    "\n",
    "`df.sort_values(by = [\"Make\", \"Model\"], ascending = False])[[\"Make\", \"Model\"]]`\n",
    "\n",
    "This sorts on Make and then Model in descending order, then splits off the Make and Model columns.\n",
    "\n",
    "`df.sort_values(by = [\"Make\", \"Model\"], ascending = False])[[\"Make\", \"Model\"]].head()`\n",
    "\n",
    "This sorts on Make and then Model, then splits off the Make and Model columns and then splits off the first 5 rows."
   ]
  },
  {
   "cell_type": "markdown",
   "metadata": {
    "id": "ANKknIx8E-hN"
   },
   "source": [
    "### Exercise 1 - get data, sort by happiness score \n",
    "---\n",
    "\n",
    "Read data from the Excel file on Happiness Data at this link: https://github.com/futureCodersSE/working-with-data/blob/main/Happiness-Data/2015.xlsx?raw=true\n",
    "\n",
    "Display first 5 rows of data  \n",
    "\n",
    "The data is currently sorted by Happiness Rank...\n",
    "*  sort the data by Happiness Score in ascending order\n",
    "*  display sorted table\n",
    "\n",
    "**Test output**:  \n",
    "The lowest score (displayed first) is 2.839, Togo  \n",
    "The highest score (displayed last) is 7.587, Switzerland  \n",
    "\n"
   ]
  },
  {
   "cell_type": "code",
   "execution_count": 8,
   "metadata": {
    "id": "jkvFGvJtHXiH"
   },
   "outputs": [
    {
     "data": {
      "text/html": [
       "<div>\n",
       "<style scoped>\n",
       "    .dataframe tbody tr th:only-of-type {\n",
       "        vertical-align: middle;\n",
       "    }\n",
       "\n",
       "    .dataframe tbody tr th {\n",
       "        vertical-align: top;\n",
       "    }\n",
       "\n",
       "    .dataframe thead th {\n",
       "        text-align: right;\n",
       "    }\n",
       "</style>\n",
       "<table border=\"1\" class=\"dataframe\">\n",
       "  <thead>\n",
       "    <tr style=\"text-align: right;\">\n",
       "      <th></th>\n",
       "      <th>Country</th>\n",
       "      <th>Region</th>\n",
       "      <th>Happiness Rank</th>\n",
       "      <th>Happiness Score</th>\n",
       "      <th>Standard Error</th>\n",
       "      <th>Economy (GDP per Capita)</th>\n",
       "      <th>Family</th>\n",
       "      <th>Health (Life Expectancy)</th>\n",
       "      <th>Freedom</th>\n",
       "      <th>Trust (Government Corruption)</th>\n",
       "      <th>Generosity</th>\n",
       "      <th>Dystopia Residual</th>\n",
       "    </tr>\n",
       "  </thead>\n",
       "  <tbody>\n",
       "    <tr>\n",
       "      <th>0</th>\n",
       "      <td>Switzerland</td>\n",
       "      <td>Western Europe</td>\n",
       "      <td>1</td>\n",
       "      <td>7.587</td>\n",
       "      <td>0.03411</td>\n",
       "      <td>1.39651</td>\n",
       "      <td>1.34951</td>\n",
       "      <td>0.94143</td>\n",
       "      <td>0.66557</td>\n",
       "      <td>0.41978</td>\n",
       "      <td>0.29678</td>\n",
       "      <td>2.51738</td>\n",
       "    </tr>\n",
       "    <tr>\n",
       "      <th>1</th>\n",
       "      <td>Iceland</td>\n",
       "      <td>Western Europe</td>\n",
       "      <td>2</td>\n",
       "      <td>7.561</td>\n",
       "      <td>0.04884</td>\n",
       "      <td>1.30232</td>\n",
       "      <td>1.40223</td>\n",
       "      <td>0.94784</td>\n",
       "      <td>0.62877</td>\n",
       "      <td>0.14145</td>\n",
       "      <td>0.43630</td>\n",
       "      <td>2.70201</td>\n",
       "    </tr>\n",
       "    <tr>\n",
       "      <th>2</th>\n",
       "      <td>Denmark</td>\n",
       "      <td>Western Europe</td>\n",
       "      <td>3</td>\n",
       "      <td>7.527</td>\n",
       "      <td>0.03328</td>\n",
       "      <td>1.32548</td>\n",
       "      <td>1.36058</td>\n",
       "      <td>0.87464</td>\n",
       "      <td>0.64938</td>\n",
       "      <td>0.48357</td>\n",
       "      <td>0.34139</td>\n",
       "      <td>2.49204</td>\n",
       "    </tr>\n",
       "    <tr>\n",
       "      <th>3</th>\n",
       "      <td>Norway</td>\n",
       "      <td>Western Europe</td>\n",
       "      <td>4</td>\n",
       "      <td>7.522</td>\n",
       "      <td>0.03880</td>\n",
       "      <td>1.45900</td>\n",
       "      <td>1.33095</td>\n",
       "      <td>0.88521</td>\n",
       "      <td>0.66973</td>\n",
       "      <td>0.36503</td>\n",
       "      <td>0.34699</td>\n",
       "      <td>2.46531</td>\n",
       "    </tr>\n",
       "    <tr>\n",
       "      <th>4</th>\n",
       "      <td>Canada</td>\n",
       "      <td>North America</td>\n",
       "      <td>5</td>\n",
       "      <td>7.427</td>\n",
       "      <td>0.03553</td>\n",
       "      <td>1.32629</td>\n",
       "      <td>1.32261</td>\n",
       "      <td>0.90563</td>\n",
       "      <td>0.63297</td>\n",
       "      <td>0.32957</td>\n",
       "      <td>0.45811</td>\n",
       "      <td>2.45176</td>\n",
       "    </tr>\n",
       "    <tr>\n",
       "      <th>...</th>\n",
       "      <td>...</td>\n",
       "      <td>...</td>\n",
       "      <td>...</td>\n",
       "      <td>...</td>\n",
       "      <td>...</td>\n",
       "      <td>...</td>\n",
       "      <td>...</td>\n",
       "      <td>...</td>\n",
       "      <td>...</td>\n",
       "      <td>...</td>\n",
       "      <td>...</td>\n",
       "      <td>...</td>\n",
       "    </tr>\n",
       "    <tr>\n",
       "      <th>153</th>\n",
       "      <td>Rwanda</td>\n",
       "      <td>Sub-Saharan Africa</td>\n",
       "      <td>154</td>\n",
       "      <td>3.465</td>\n",
       "      <td>0.03464</td>\n",
       "      <td>0.22208</td>\n",
       "      <td>0.77370</td>\n",
       "      <td>0.42864</td>\n",
       "      <td>0.59201</td>\n",
       "      <td>0.55191</td>\n",
       "      <td>0.22628</td>\n",
       "      <td>0.67042</td>\n",
       "    </tr>\n",
       "    <tr>\n",
       "      <th>154</th>\n",
       "      <td>Benin</td>\n",
       "      <td>Sub-Saharan Africa</td>\n",
       "      <td>155</td>\n",
       "      <td>3.340</td>\n",
       "      <td>0.03656</td>\n",
       "      <td>0.28665</td>\n",
       "      <td>0.35386</td>\n",
       "      <td>0.31910</td>\n",
       "      <td>0.48450</td>\n",
       "      <td>0.08010</td>\n",
       "      <td>0.18260</td>\n",
       "      <td>1.63328</td>\n",
       "    </tr>\n",
       "    <tr>\n",
       "      <th>155</th>\n",
       "      <td>Syria</td>\n",
       "      <td>Middle East and Northern Africa</td>\n",
       "      <td>156</td>\n",
       "      <td>3.006</td>\n",
       "      <td>0.05015</td>\n",
       "      <td>0.66320</td>\n",
       "      <td>0.47489</td>\n",
       "      <td>0.72193</td>\n",
       "      <td>0.15684</td>\n",
       "      <td>0.18906</td>\n",
       "      <td>0.47179</td>\n",
       "      <td>0.32858</td>\n",
       "    </tr>\n",
       "    <tr>\n",
       "      <th>156</th>\n",
       "      <td>Burundi</td>\n",
       "      <td>Sub-Saharan Africa</td>\n",
       "      <td>157</td>\n",
       "      <td>2.905</td>\n",
       "      <td>0.08658</td>\n",
       "      <td>0.01530</td>\n",
       "      <td>0.41587</td>\n",
       "      <td>0.22396</td>\n",
       "      <td>0.11850</td>\n",
       "      <td>0.10062</td>\n",
       "      <td>0.19727</td>\n",
       "      <td>1.83302</td>\n",
       "    </tr>\n",
       "    <tr>\n",
       "      <th>157</th>\n",
       "      <td>Togo</td>\n",
       "      <td>Sub-Saharan Africa</td>\n",
       "      <td>158</td>\n",
       "      <td>2.839</td>\n",
       "      <td>0.06727</td>\n",
       "      <td>0.20868</td>\n",
       "      <td>0.13995</td>\n",
       "      <td>0.28443</td>\n",
       "      <td>0.36453</td>\n",
       "      <td>0.10731</td>\n",
       "      <td>0.16681</td>\n",
       "      <td>1.56726</td>\n",
       "    </tr>\n",
       "  </tbody>\n",
       "</table>\n",
       "<p>158 rows × 12 columns</p>\n",
       "</div>"
      ],
      "text/plain": [
       "         Country                           Region  Happiness Rank  \\\n",
       "0    Switzerland                   Western Europe               1   \n",
       "1        Iceland                   Western Europe               2   \n",
       "2        Denmark                   Western Europe               3   \n",
       "3         Norway                   Western Europe               4   \n",
       "4         Canada                    North America               5   \n",
       "..           ...                              ...             ...   \n",
       "153       Rwanda               Sub-Saharan Africa             154   \n",
       "154        Benin               Sub-Saharan Africa             155   \n",
       "155        Syria  Middle East and Northern Africa             156   \n",
       "156      Burundi               Sub-Saharan Africa             157   \n",
       "157         Togo               Sub-Saharan Africa             158   \n",
       "\n",
       "     Happiness Score  Standard Error  Economy (GDP per Capita)   Family  \\\n",
       "0              7.587         0.03411                   1.39651  1.34951   \n",
       "1              7.561         0.04884                   1.30232  1.40223   \n",
       "2              7.527         0.03328                   1.32548  1.36058   \n",
       "3              7.522         0.03880                   1.45900  1.33095   \n",
       "4              7.427         0.03553                   1.32629  1.32261   \n",
       "..               ...             ...                       ...      ...   \n",
       "153            3.465         0.03464                   0.22208  0.77370   \n",
       "154            3.340         0.03656                   0.28665  0.35386   \n",
       "155            3.006         0.05015                   0.66320  0.47489   \n",
       "156            2.905         0.08658                   0.01530  0.41587   \n",
       "157            2.839         0.06727                   0.20868  0.13995   \n",
       "\n",
       "     Health (Life Expectancy)  Freedom  Trust (Government Corruption)  \\\n",
       "0                     0.94143  0.66557                        0.41978   \n",
       "1                     0.94784  0.62877                        0.14145   \n",
       "2                     0.87464  0.64938                        0.48357   \n",
       "3                     0.88521  0.66973                        0.36503   \n",
       "4                     0.90563  0.63297                        0.32957   \n",
       "..                        ...      ...                            ...   \n",
       "153                   0.42864  0.59201                        0.55191   \n",
       "154                   0.31910  0.48450                        0.08010   \n",
       "155                   0.72193  0.15684                        0.18906   \n",
       "156                   0.22396  0.11850                        0.10062   \n",
       "157                   0.28443  0.36453                        0.10731   \n",
       "\n",
       "     Generosity  Dystopia Residual  \n",
       "0       0.29678            2.51738  \n",
       "1       0.43630            2.70201  \n",
       "2       0.34139            2.49204  \n",
       "3       0.34699            2.46531  \n",
       "4       0.45811            2.45176  \n",
       "..          ...                ...  \n",
       "153     0.22628            0.67042  \n",
       "154     0.18260            1.63328  \n",
       "155     0.47179            0.32858  \n",
       "156     0.19727            1.83302  \n",
       "157     0.16681            1.56726  \n",
       "\n",
       "[158 rows x 12 columns]"
      ]
     },
     "execution_count": 8,
     "metadata": {},
     "output_type": "execute_result"
    }
   ],
   "source": [
    "import pandas as pd\n",
    "datatables = pd.read_excel('https://github.com/futureCodersSE/working-with-data/blob/main/Happiness-Data/2015.xlsx?raw=true')\n",
    "datatables.sort_values(by = [\"Happiness Score\"])\n",
    "datatables"
   ]
  },
  {
   "cell_type": "markdown",
   "metadata": {
    "id": "5_iomqRTH8LA"
   },
   "source": [
    "### Exercise 2 - sort by multiple columns, display the first 5 rows \n",
    "---\n",
    "\n",
    "1. sort the data by Economy (GDP per Capita) and Health (Life Expectancy) in ascending order \n",
    "2. display the first 5 rows of sorted data \n",
    "\n",
    "**Test output**:  \n",
    "Records 122, 127, 147, 100, 96"
   ]
  },
  {
   "cell_type": "code",
   "execution_count": null,
   "metadata": {
    "id": "b7XalX7OK0u-"
   },
   "outputs": [],
   "source": []
  },
  {
   "cell_type": "markdown",
   "metadata": {
    "id": "xfQ3cys4LHNc"
   },
   "source": [
    "### Exercise 3 - sorting in descending order \n",
    "---\n",
    " \n",
    "Sort the data by Freedom and Trust (Government Corruption) in descending order and show the Country and Region only for the last five rows\n",
    "\n",
    "**Test output**:\n",
    "136, 117, 95, 101, 111 Country and Region columns\n"
   ]
  },
  {
   "cell_type": "code",
   "execution_count": null,
   "metadata": {
    "id": "3haPVvX7MCom"
   },
   "outputs": [],
   "source": []
  },
  {
   "cell_type": "markdown",
   "metadata": {
    "id": "MqnAoELjMDs7"
   },
   "source": [
    "# Cleaning the data\n",
    "\n",
    "Data comes from a range of sources:  forms, monitoring devices, etc.  There will often be missing values, duplicate records and values that are incorrectly formatted.  These can affect summary statistics and graphs plotted from the data.\n",
    "\n",
    "Techniques for data cleansing include:\n",
    "*  removing records with missing or null data (NaN, NA, \"\")\n",
    "*  removing duplicate rows (keeping just one, either the first or the last)\n",
    "\n",
    "Removal of rows according to criteria, or of columns are other ways that data might be cleaned up.  \n"
   ]
  },
  {
   "cell_type": "markdown",
   "metadata": {
    "id": "rVqmfM5wk7NK"
   },
   "source": [
    "---\n",
    "\n",
    "## Removing NaN/Dropping NA values \n",
    "\n",
    "pandas have functions for checking a dataframe, or column, for null values, checking a column for missing values, and functions for dropping all rows that contain null values.\n",
    "\n",
    "* check for NA/NaN/missing values across dataframe (returns True if NA values exist)  \n",
    "  `df.isnull().values.any()`  \n",
    "\n",
    "* check for NA/NaN/missing values in specific column  \n",
    "  `df[\"Make\"].isnull().values.any()`  \n",
    "\n",
    "* drop all rows that have NA/NaN values   \n",
    "  `df.dropna()`  \n",
    "\n",
    "* drop rows where NA/NaN values exist in specific columns  \n",
    "  `df.dropna(subset = [\"Make\", \"Model\"])`  "
   ]
  },
  {
   "cell_type": "markdown",
   "metadata": {
    "id": "DC65hEZGOKNL"
   },
   "source": [
    "### Exercise 4 - check for null values \n",
    "---\n",
    "\n",
    "1. read data from the file housing_in_london_yearly_variables.csv from this link: https://raw.githubusercontent.com/futureCodersSE/working-with-data/main/Data%20sets/housing_in_london_yearly_variables.csv \n",
    "2. check if any NA values exist in the dataframe and print the result \n",
    "3. use df.info() to see which columns have null entries (*Hint: if the non-null count is less than total entries, column contains missing/NA entries*)  \n",
    "\n",
    "**Test output**:\n",
    "True\n",
    ".info shows median_salary, life_satisfaction, recycling_pct, population_size, number_of_jobs, area_size, no_of_houses all less than total rows (1071) \n",
    "\n"
   ]
  },
  {
   "cell_type": "code",
   "execution_count": null,
   "metadata": {
    "id": "U7LYkXDNVVc9"
   },
   "outputs": [],
   "source": []
  },
  {
   "cell_type": "markdown",
   "metadata": {
    "id": "BRBLm_bJVItu"
   },
   "source": [
    "### Exercise 5 - remove null values \n",
    "---\n",
    "\n",
    "1. remove rows with NA values for `life_satisfaction` (use [ ] even if only one column in list)\n",
    "2. remove all NA values across whole dataframe \n",
    "\n",
    "**Test output**:  \n",
    "1.  Row count reduced to 352 rows\n",
    "2.  Row count reduced to 267 rows"
   ]
  },
  {
   "cell_type": "code",
   "execution_count": null,
   "metadata": {
    "id": "OjZJNIC3QObK"
   },
   "outputs": [],
   "source": []
  },
  {
   "cell_type": "markdown",
   "metadata": {
    "id": "ui8HF5z8SiK8"
   },
   "source": [
    "## Dropping duplicates\n",
    "---\n",
    "\n",
    "* To remove duplicate rows based on duplication of values in all columns  \n",
    "  `df.drop_duplicates()`  \n",
    "\n",
    "* To remove rows that have duplicate entries in a specified column  \n",
    "  `df.drop_duplicates(subset = ['Make'])`  \n",
    "\n",
    "* To remove rows that have duplicate entries in multiple columns  \n",
    "  `df.drop_duplicates(subset = ['Make', 'Model'])` \n",
    "\n",
    "* Remove duplicate rows keeping the last instance rather than the first (default):  \n",
    "  `df.drop_duplicates(keep='last')`  "
   ]
  },
  {
   "cell_type": "markdown",
   "metadata": {
    "id": "_2Qf6uMxSb5t"
   },
   "source": [
    "### Exercise 6 - Removing duplicate entries \n",
    "---\n",
    "\n",
    "remove duplicate `area` entries keeping first instance  \n",
    "\n",
    "**Test output**:  \n",
    " Dataframe now contains 50 rows all with date 1999-12-*01* "
   ]
  },
  {
   "cell_type": "code",
   "execution_count": null,
   "metadata": {
    "id": "OQ8T0tYVQj74"
   },
   "outputs": [],
   "source": []
  },
  {
   "cell_type": "markdown",
   "metadata": {
    "id": "vQ_tQG_3WBXn"
   },
   "source": [
    "# Normalising Data  \n",
    "When we normalise data, we remodel a numeric column in a dataframe to be on a standard scale (e.g. 0 or 1).   \n",
    "\n",
    "For example if we had a column of BMI scores, we could normalise that column so that all scores greater than or equal to 25 were recoded to the value 1 (bad) and all scores less than 25 were recoded to 0 (good).  \n",
    "\n",
    "To normalise we need to:\n",
    "*   write a function, with the dataframe as a parameter, which will look at each row in dataframe column and return either a value in the normalised scale (e.g. 0,1 or 1,2,3,4) depending on that value.\n",
    "\n",
    "For example:  \n",
    "```\n",
    "def normalise_bmi(df):\n",
    "  if df['bmi'] >= 25:\n",
    "    return 1\n",
    "  else:\n",
    "    return 0\n",
    "\n",
    "df[\"bmi\"] = df.apply(normalise_bmi, axis=1)\n",
    "```\n",
    "This code reassigns the values in the column \"bmi\" by sending each row one after the other to the normalise_bmi function, which will check the value in the \"bmi\" column and return either 0 or 1 depending on the value in the \"bmi\" column."
   ]
  },
  {
   "cell_type": "markdown",
   "metadata": {
    "id": "k8KPmy2_NVh1"
   },
   "source": [
    "### Exercise 7 - normalise data set\n",
    "---\n",
    "\n",
    "Create a function called **normalise_income(df)** that will return the values 1, 2 or 3 to represent low income, middle income and high income.  If the value in `df['median_salary']` is less than 27441 (the median), return 1, otherwise if it is less than 30932 (the upper quartile) return 2 and otherwise return 3.\n",
    "\n",
    "Apply the normalise_income(df) function to the `median_salary` column.\n",
    "\n",
    "*NOTE:  this operation will change the original dataframe so if you run it twice, everything in the median_salary column will change to 1 (as it had already been reduced to 1, 2 or 3 - if this happens, run the code in Exercise 4 again to get the original data again from the file.*\n",
    "\n",
    "**Test output**:  \n",
    "The maximum value of the column df['median_salary'] will be 3 and the minimum value will be 1  "
   ]
  },
  {
   "cell_type": "code",
   "execution_count": null,
   "metadata": {
    "id": "ktylpCl7QjGJ"
   },
   "outputs": [],
   "source": []
  },
  {
   "cell_type": "markdown",
   "metadata": {
    "id": "NCrIEyMjSYTI"
   },
   "source": [
    "### Exercise 8 - normalise the number of jobs column\n",
    "---\n",
    "\n",
    "Using what you have learnt from Exercise 7:  \n",
    "*  use `df.describe()` to find the median, upper quartile and maximum for the number_of_jobs column  \n",
    "*  create a function called **normalise_jobs(df)** that will return 1 if the `number_of_jobs` is below the median, 2 if the `number_of_jobs` is below the upper quartile or 3 otherwise.\n",
    "*  normalise the `number_of_jobs` column by applying the function `normalise_jobs`.\n",
    "\n",
    "**Test output**:  \n",
    "The maximum value of the column df['number_of_jobs'] will be 3 and the minimum value will be 1  "
   ]
  },
  {
   "cell_type": "code",
   "execution_count": null,
   "metadata": {
    "id": "giYXovr-T7TB"
   },
   "outputs": [],
   "source": []
  },
  {
   "cell_type": "markdown",
   "metadata": {
    "id": "-akqnUbYVblH"
   },
   "source": [
    "## Exercise 9 - normalise into a new column\n",
    "---\n",
    "\n",
    "Create a new function and code to normalise the `no_of_houses` column BUT this time, instead of assigning the result to `df['no_of_houses']` assign it to a new column called `df['housing_volume']`\n",
    "\n",
    "**Test output**:  \n",
    "The maximum value of the column df['housing_volume'] will be 3 and the minimum value will be 1 "
   ]
  },
  {
   "cell_type": "code",
   "execution_count": null,
   "metadata": {
    "id": "DnQsE4znV6nD"
   },
   "outputs": [],
   "source": []
  },
  {
   "cell_type": "markdown",
   "metadata": {
    "id": "v_FaL31EXHZX"
   },
   "source": [
    "### Exercise 10 - normalise boroughs\n",
    "---\n",
    "\n",
    "Normalise the `area_size` column so that all values below mean are represented as 0 and otherwise are 1.  Assign the output to a new column called `area_size_normalised`.  \n",
    "\n",
    "**Test output**:  \n",
    "`area_size_normalised` column will contain both 0s and 1s.  The position of the first row with value 1 will be 0 and the position of the first row with value 0 will be 102.\n"
   ]
  },
  {
   "cell_type": "code",
   "execution_count": null,
   "metadata": {
    "id": "doIZ9M0UXkkv"
   },
   "outputs": [],
   "source": []
  },
  {
   "cell_type": "markdown",
   "metadata": {
    "id": "yQyytEbnZ1lw"
   },
   "source": [
    "# Reflection\n",
    "----\n",
    "\n",
    "## What skills have you demonstrated in completing this notebook?"
   ]
  },
  {
   "cell_type": "markdown",
   "metadata": {
    "id": "MM00hR5aZk1-"
   },
   "source": [
    "Your answer: "
   ]
  },
  {
   "cell_type": "markdown",
   "metadata": {
    "id": "Zgexd27sZ1ly"
   },
   "source": [
    "## What caused you the most difficulty?"
   ]
  },
  {
   "cell_type": "markdown",
   "metadata": {
    "id": "-Y_nrVBwaGXr"
   },
   "source": [
    "Your answer: "
   ]
  }
 ],
 "metadata": {
  "colab": {
   "collapsed_sections": [],
   "name": "Sorting_and_cleaning.ipynb",
   "provenance": []
  },
  "kernelspec": {
   "display_name": "Python 3",
   "language": "python",
   "name": "python3"
  },
  "language_info": {
   "codemirror_mode": {
    "name": "ipython",
    "version": 3
   },
   "file_extension": ".py",
   "mimetype": "text/x-python",
   "name": "python",
   "nbconvert_exporter": "python",
   "pygments_lexer": "ipython3",
   "version": "3.8.8"
  }
 },
 "nbformat": 4,
 "nbformat_minor": 1
}
